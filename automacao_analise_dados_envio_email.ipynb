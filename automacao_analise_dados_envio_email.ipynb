{
 "cells": [
  {
   "cell_type": "code",
   "execution_count": 1,
   "id": "f58b8ef8",
   "metadata": {},
   "outputs": [],
   "source": [
    "#importando as bibliotecas\n",
    "import pyautogui\n",
    "import pyperclip\n",
    "import time\n",
    "import pandas as pd"
   ]
  },
  {
   "cell_type": "code",
   "execution_count": 5,
   "id": "d02d2d0e",
   "metadata": {},
   "outputs": [],
   "source": [
    "#automatizando a importação da base de dados\n",
    "\n",
    "#tempo de execução entre os comandos do pyautogui para não ocorrer erro de processamento\n",
    "pyautogui.PAUSE=5 \n",
    "\n",
    "#1)Abrir o navegador de internet usando automação do teclado\n",
    "pyautogui.press(\"win\")\n",
    "pyautogui.write(\"chrome\")\n",
    "pyautogui.press(\"enter\")\n",
    "#pyautogui.alert(\"vai começar, clique em OK e não faça mais nada até concluir.!\")\n",
    "pyautogui.hotkey(\"ctrl\",\"t\")\n",
    "\n",
    "#2)salvar e abrir o link do Google Drive onde está nossa base de dados usando teclado.\n",
    "link = \"https://drive.google.com/drive/folders/149xknr9JvrlEnhNWO49zPcw0PW5icxga\"#atividade maunal que pode ser automatizada\n",
    "pyperclip.copy(link)#salvando na aréa de trasferencia\n",
    "pyautogui.hotkey(\"ctrl\", \"v\")\n",
    "pyautogui.press(\"enter\")\n",
    "time.sleep(7)#pausa para carregamento.\n",
    "\n",
    "#3)Abrir pasta Aula 1 do Google Drive e baixar planilha Vendas Dez xlsx usando comandos automatizados do mouse\n",
    "#As referências irão depender da configuração de cada computador/monitor.\n",
    "pyautogui.click(x=342, y=300, clicks=2)# duplo click para abrir a pasta\n",
    "pyautogui.click(x=342, y=300)#click para selecionar o arquivo\n",
    "pyautogui.click(x=1163, y=192)#selecionar mais açoes (3 pontos)\n",
    "pyautogui.click(x=884, y=599)#fazer dowload\n",
    "time.sleep(5)#pausa para carregamento.\n",
    "pyautogui.press(\"enter\")\n",
    "time.sleep(15)"
   ]
  },
  {
   "cell_type": "code",
   "execution_count": 6,
   "id": "88c2d66d",
   "metadata": {},
   "outputs": [
    {
     "name": "stdout",
     "output_type": "stream",
     "text": [
      "2917311 15227\n"
     ]
    }
   ],
   "source": [
    "#importando e extraindo os indicadores com o pandas\n",
    "df=pd.read_excel(r\"C:\\Users\\filip\\Downloads\\Vendas - Dez.xlsx\")\n",
    "#display(df)\n",
    "faturamento=df[\"Valor Final\"].sum()\n",
    "qtd_produtos=df[\"Quantidade\"].sum()\n",
    "print(faturamento,qtd_produtos)\n"
   ]
  },
  {
   "cell_type": "code",
   "execution_count": 7,
   "id": "0d9a1b29",
   "metadata": {},
   "outputs": [],
   "source": [
    "#automatizndo o envio do relatório po email\n",
    "#pyautogui.PAUSE=3\n",
    "pyautogui.hotkey(\"ctrl\",\"t\")#abrir nova guia\n",
    "pyautogui.write(\"https://mail.google.com/mail/u/0/#inbox\")#link do email\n",
    "pyautogui.press(\"enter\")\n",
    "time.sleep(7)#pausa para carregamento.\n",
    "pyautogui.click(x=104, y=207)#escrever novo email\n",
    "pyautogui.write(\"filiperochads@gmail.com\")#email do destinatário\n",
    "pyautogui.press(\"tab\")#seleciona email desinatário\n",
    "pyautogui.press(\"tab\")#pula para campo assunto\n",
    "assunto = \"Relatório mensal\"\n",
    "pyperclip.copy(assunto)\n",
    "pyautogui.hotkey(\"ctrl\",\"v\")\n",
    "pyautogui.press(\"tab\")#pula para campo texto\n",
    "texto = f\"\"\"\n",
    "Prezados, boa tarde\n",
    "\n",
    "O faturamento foi de: R${faturamento:,.2f}\n",
    "A quantidade de produtos foi de {qtd_produtos:,}\n",
    "\n",
    "ATT. Filipe\n",
    "\"\"\"\n",
    "pyperclip.copy(texto)\n",
    "pyautogui.hotkey(\"ctrl\",\"v\")#cola o texto\n",
    "pyautogui.hotkey(\"ctrl\",\"enter\")#enviar"
   ]
  },
  {
   "cell_type": "code",
   "execution_count": null,
   "id": "fbb846d4",
   "metadata": {},
   "outputs": [],
   "source": []
  },
  {
   "cell_type": "code",
   "execution_count": null,
   "id": "4e811a01",
   "metadata": {},
   "outputs": [],
   "source": []
  },
  {
   "cell_type": "code",
   "execution_count": null,
   "id": "e701de98",
   "metadata": {},
   "outputs": [],
   "source": []
  }
 ],
 "metadata": {
  "kernelspec": {
   "display_name": "Python 3",
   "language": "python",
   "name": "python3"
  },
  "language_info": {
   "codemirror_mode": {
    "name": "ipython",
    "version": 3
   },
   "file_extension": ".py",
   "mimetype": "text/x-python",
   "name": "python",
   "nbconvert_exporter": "python",
   "pygments_lexer": "ipython3",
   "version": "3.8.8"
  }
 },
 "nbformat": 4,
 "nbformat_minor": 5
}
